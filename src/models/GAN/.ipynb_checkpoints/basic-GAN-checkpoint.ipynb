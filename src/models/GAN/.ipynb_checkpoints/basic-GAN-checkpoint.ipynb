{
 "cells": [
  {
   "cell_type": "code",
   "execution_count": 1,
   "metadata": {},
   "outputs": [
    {
     "data": {
      "text/plain": [
       "'2.2.0'"
      ]
     },
     "execution_count": 1,
     "metadata": {},
     "output_type": "execute_result"
    }
   ],
   "source": [
    "# https://www.kaggle.com/c/generative-dog-images/discussion/104281\n",
    "# https://machinelearningmastery.com/a-gentle-introduction-to-the-biggan/\n",
    "# https://machinelearningmastery.com/how-to-develop-a-conditional-generative-adversarial-network-from-scratch/\n",
    "# https://github.com/taki0112/BigGAN-Tensorflow/blob/master/BigGAN_128.py\n",
    "\n",
    "import sys\n",
    "import numpy as np\n",
    "import os\n",
    "import io\n",
    "import cv2\n",
    "import glob\n",
    "import handshape_datasets as hd\n",
    "import tensorflow as tf\n",
    "import tensorflow_datasets as tfds\n",
    "from densenet import densenet_model\n",
    "from sklearn.model_selection import train_test_split\n",
    "from sklearn import preprocessing\n",
    "from sklearn.utils.class_weight import compute_class_weight\n",
    "from datetime import datetime\n",
    "from tensorflow.keras.preprocessing.image import ImageDataGenerator\n",
    "import time\n",
    "from tensorflow.keras import Model\n",
    "from tensorflow.keras.layers import Input, ZeroPadding2D, Dense, Dropout, Activation, Reshape, Flatten\n",
    "from tensorflow.keras.layers import AveragePooling2D, GlobalAveragePooling2D, MaxPooling2D, BatchNormalization \n",
    "from tensorflow.keras.layers import Conv2DTranspose, LeakyReLU, Conv2D\n",
    "import pandas as pd\n",
    "import seaborn as sns\n",
    "%matplotlib inline\n",
    "import matplotlib.pyplot as plt\n",
    "from PIL import Image\n",
    "from pathlib import Path\n",
    "from sklearn.model_selection import train_test_split\n",
    "\n",
    "tf.__version__"
   ]
  },
  {
   "cell_type": "code",
   "execution_count": 2,
   "metadata": {},
   "outputs": [
    {
     "name": "stdout",
     "output_type": "stream",
     "text": [
      "1 Physical GPUs, 1 Logical GPUs\n",
      "[LogicalDevice(name='/device:GPU:0', device_type='GPU')]\n",
      "WARNING:tensorflow:From <ipython-input-2-0dcb167e88d7>:14: is_gpu_available (from tensorflow.python.framework.test_util) is deprecated and will be removed in a future version.\n",
      "Instructions for updating:\n",
      "Use `tf.config.list_physical_devices('GPU')` instead.\n"
     ]
    },
    {
     "data": {
      "text/plain": [
       "True"
      ]
     },
     "execution_count": 2,
     "metadata": {},
     "output_type": "execute_result"
    }
   ],
   "source": [
    "gpus = tf.config.experimental.list_physical_devices('GPU')\n",
    "if gpus:\n",
    "    try:\n",
    "        # Currently, memory growth needs to be the same across GPUs\n",
    "        for gpu in gpus:\n",
    "              tf.config.experimental.set_memory_growth(gpu, True)\n",
    "        logical_gpus = tf.config.experimental.list_logical_devices('GPU')\n",
    "        print(len(gpus), \"Physical GPUs,\", len(logical_gpus), \"Logical GPUs\")\n",
    "    except RuntimeError as e:\n",
    "        # Memory growth must be set before GPUs have been initialized\n",
    "        print(e)\n",
    "        \n",
    "print(tf.config.experimental.list_logical_devices('GPU'))\n",
    "tf.test.is_gpu_available()\n"
   ]
  },
  {
   "cell_type": "code",
   "execution_count": 3,
   "metadata": {},
   "outputs": [],
   "source": [
    "# hyperparameters\n",
    "# data\n",
    "rotation_range = 20\n",
    "width_shift_range = 0.2\n",
    "height_shift_range = 0.2\n",
    "horizontal_flip = True\n",
    "vertical_flip = False\n",
    "shear_range = 0\n",
    "zoom_range = 0.2\n",
    "\n",
    "# training\n",
    "g_lr = 0.001\n",
    "d_lr = 0.001\n",
    "epochs = 200\n",
    "max_patience = 200\n",
    "min_loss = 25\n",
    "min_loss_acc = 0\n",
    "batch_size = 128\n",
    "noise_dim = 256\n",
    "\n",
    "# log\n",
    "log_freq = 1\n",
    "models_directory = 'results/models/'\n",
    "date = datetime.now().strftime(\"%Y_%m_%d-%H:%M:%S\")\n",
    "identifier = \"simple_gan-\" + date "
   ]
  },
  {
   "cell_type": "code",
   "execution_count": 4,
   "metadata": {},
   "outputs": [
    {
     "name": "stderr",
     "output_type": "stream",
     "text": [
      "INFO:Loading rwth...\n"
     ]
    }
   ],
   "source": [
    "dataset_name = 'rwth'\n",
    "path = '/tf/data/{}'.format(dataset_name)\n",
    "data_dir = os.path.join(path, 'data')\n",
    "\n",
    "if not os.path.exists(data_dir):\n",
    "    os.makedirs(data_dir)\n",
    "    \n",
    "    \n",
    "data = hd.load(dataset_name, Path(data_dir))\n",
    "\n",
    "good_min = 40\n",
    "good_classes = []\n",
    "n_unique = len(np.unique(data[1]['y']))\n",
    "for i in range(n_unique):\n",
    "    images = data[0][np.equal(i, data[1]['y'])]\n",
    "    if len(images) >= good_min:\n",
    "        good_classes = good_classes + [i]\n",
    "\n",
    "x = data[0][np.in1d(data[1]['y'], good_classes)]\n",
    "img_shape = x[0].shape\n",
    "x = tf.image.resize(x, [int(img_shape[0]/2), int(img_shape[1]/2)]).numpy()\n",
    "img_shape = x[0].shape\n",
    "y = data[1]['y'][np.in1d(data[1]['y'], good_classes)]\n",
    "y_dict = dict(zip(np.unique(y), range(len(np.unique(y)))))\n",
    "y = np.vectorize(y_dict.get)(y)\n",
    "\n",
    "x_train, x_test, y_train, y_test = train_test_split(\n",
    "    x, y, train_size=0.8, test_size=0.2, stratify=y)\n",
    "\n",
    "classes = np.unique(y_train)\n",
    "n_classes = len(classes)\n",
    "train_size = x_train.shape[0]\n",
    "test_size = x_test.shape[0]"
   ]
  },
  {
   "cell_type": "code",
   "execution_count": 5,
   "metadata": {},
   "outputs": [
    {
     "data": {
      "text/plain": [
       "(66, 46, 3)"
      ]
     },
     "execution_count": 5,
     "metadata": {},
     "output_type": "execute_result"
    }
   ],
   "source": [
    "img_shape"
   ]
  },
  {
   "cell_type": "code",
   "execution_count": 6,
   "metadata": {},
   "outputs": [],
   "source": [
    "datagen = ImageDataGenerator(\n",
    "    featurewise_center=True,\n",
    "    featurewise_std_normalization=True,\n",
    "    rotation_range=rotation_range,\n",
    "    width_shift_range=width_shift_range,\n",
    "    height_shift_range=height_shift_range,\n",
    "    horizontal_flip=horizontal_flip,\n",
    "    vertical_flip = vertical_flip,\n",
    "    shear_range=shear_range,\n",
    "    zoom_range=zoom_range,\n",
    "    fill_mode='constant',\n",
    "    cval=0,\n",
    ")\n",
    "\n",
    "datagen.fit(x_train)\n",
    "\n",
    "test_datagen = ImageDataGenerator(\n",
    "    featurewise_center=True,\n",
    "    featurewise_std_normalization=True,\n",
    ")\n",
    "\n",
    "test_datagen.fit(x_train)\n",
    "\n",
    "# create data generators\n",
    "train_gen =  datagen.flow(x_train, y_train, batch_size=batch_size)\n",
    "test_gen = test_datagen.flow(x_test, y_test , batch_size=batch_size, shuffle=False)"
   ]
  },
  {
   "cell_type": "code",
   "execution_count": 14,
   "metadata": {},
   "outputs": [
    {
     "name": "stderr",
     "output_type": "stream",
     "text": [
      "WARNING:Clipping input data to the valid range for imshow with RGB data ([0..1] for floats or [0..255] for integers).\n"
     ]
    },
    {
     "data": {
      "image/png": "[encoded data removed]",
      "text/plain": [
       "<Figure size 432x288 with 1 Axes>"
      ]
     },
     "metadata": {
      "needs_background": "light"
     },
     "output_type": "display_data"
    }
   ],
   "source": [
    "for images, _ in train_gen:\n",
    "    plt.imshow(images[0])\n",
    "    break"
   ]
  },
  {
   "cell_type": "code",
   "execution_count": 8,
   "metadata": {},
   "outputs": [],
   "source": [
    "def generator_model(input_shape=(100,), output_shape=(66, 46, 3)):\n",
    "\n",
    "    noise_input = Input(shape=input_shape, name='noise_input')\n",
    "    \n",
    "    x = Dense(int(output_shape[0]/2)*int(output_shape[1]/2)*32, use_bias=False, input_shape=input_shape, name='dense1')(noise_input)\n",
    "    x = BatchNormalization(name='dense1_bn')(x)\n",
    "    x = LeakyReLU(name='dense1_leakyrelu')(x)\n",
    "\n",
    "    x = Reshape((int(output_shape[0]/2),int(output_shape[1]/2),32), name='reshape1')(x)\n",
    "\n",
    "    x = Conv2DTranspose(128, (5, 5), strides=(1, 1), padding='same', use_bias=False, name='convt1')(x)\n",
    "    x = BatchNormalization(name='convt1_bn')(x)\n",
    "    x = LeakyReLU(name='convt1_leakyrelu')(x)\n",
    "\n",
    "    x = Conv2DTranspose(64, (5, 5), strides=(2, 2), padding='same', use_bias=False, name='convt2')(x)\n",
    "    x = BatchNormalization(name='convt2_bn')(x)\n",
    "    x = LeakyReLU(name='convt2_leakyrelu')(x)\n",
    "\n",
    "    x = Conv2DTranspose(64, (5, 5), strides=(1, 1), padding='same', use_bias=False, name='convt3')(x)\n",
    "    x = BatchNormalization(name='convt3_bn')(x)\n",
    "    x = LeakyReLU(name='convt3_leakyrelu')(x)\n",
    "\n",
    "    output = Conv2DTranspose(output_shape[2], (5, 5), strides=(1, 1), padding='same', use_bias=False, activation='tanh', name='convt_out')(x)\n",
    "\n",
    "    return Model(inputs=noise_input, outputs=output)\n",
    "\n",
    "\n",
    "def discriminator_model(input_shape=(66, 46, 3)):\n",
    "    img_input = Input(shape=input_shape, name='img_input')\n",
    "    x = Conv2D(64, (5, 5), strides=(2, 2), padding='same',\n",
    "                                     input_shape=input_shape, name='conv1')(img_input)\n",
    "    x = LeakyReLU(name='conv1_leakyrelu')(x)\n",
    "    x = Dropout(0.3, name='conv1_dropout')(x)\n",
    "\n",
    "    x = Conv2D(128, (5, 5), strides=(2, 2), padding='same', name='conv2')(x)\n",
    "    x = LeakyReLU(name='conv2_leakyrelu')(x)\n",
    "    x = Dropout(0.3, name='conv2_dropout')(x)\n",
    "\n",
    "    x = Flatten(name='flatten')(x)\n",
    "    output = Dense(1, name='out_dense')(x)\n",
    "\n",
    "    return Model(inputs=img_input, outputs=output)\n",
    "\n",
    "generator = generator_model(input_shape=(noise_dim,), output_shape=img_shape)\n",
    "discriminator = discriminator_model(input_shape=img_shape)"
   ]
  },
  {
   "cell_type": "code",
   "execution_count": 9,
   "metadata": {},
   "outputs": [],
   "source": [
    "# losses and optimizers\n",
    "cross_entropy = tf.keras.losses.BinaryCrossentropy(from_logits=True)\n",
    "\n",
    "generator_optimizer = tf.keras.optimizers.Adam(g_lr)\n",
    "discriminator_optimizer = tf.keras.optimizers.Adam(d_lr)"
   ]
  },
  {
   "cell_type": "code",
   "execution_count": 10,
   "metadata": {},
   "outputs": [],
   "source": [
    "discriminator_loss = tf.keras.metrics.Mean(name='discriminator_loss')\n",
    "generator_loss = tf.keras.metrics.Mean(name='generator_loss')"
   ]
  },
  {
   "cell_type": "code",
   "execution_count": 11,
   "metadata": {},
   "outputs": [],
   "source": [
    "@tf.function\n",
    "def train_step(images):\n",
    "    noise = tf.random.normal([images.shape[0], noise_dim])\n",
    "\n",
    "    with tf.GradientTape() as gen_tape, tf.GradientTape() as disc_tape:\n",
    "        generated_images = generator(noise, training=True)\n",
    "        \n",
    "        real_output = discriminator(images, training=True)\n",
    "        fake_output = discriminator(generated_images, training=True)\n",
    "                \n",
    "        gen_loss = cross_entropy(tf.ones_like(fake_output), fake_output)\n",
    "        \n",
    "        real_loss = cross_entropy(tf.ones_like(real_output), real_output)\n",
    "        fake_loss = cross_entropy(tf.zeros_like(fake_output), fake_output)\n",
    "        disc_loss = real_loss + fake_loss\n",
    "\n",
    "    gradients_of_generator = gen_tape.gradient(gen_loss, generator.trainable_variables)\n",
    "    gradients_of_discriminator = disc_tape.gradient(disc_loss, discriminator.trainable_variables)\n",
    "\n",
    "    generator_optimizer.apply_gradients(zip(gradients_of_generator, generator.trainable_variables))\n",
    "    discriminator_optimizer.apply_gradients(zip(gradients_of_discriminator, discriminator.trainable_variables))\n",
    "\n",
    "    discriminator_loss(gen_loss)\n",
    "    generator_loss(disc_loss)"
   ]
  },
  {
   "cell_type": "code",
   "execution_count": 12,
   "metadata": {},
   "outputs": [],
   "source": [
    "# create summary writers\n",
    "train_summary_writer = tf.summary.create_file_writer('results/summaries/train/' + identifier)"
   ]
  },
  {
   "cell_type": "code",
   "execution_count": 13,
   "metadata": {
    "scrolled": true
   },
   "outputs": [
    {
     "name": "stdout",
     "output_type": "stream",
     "text": [
      "starting training\n",
      "Epoch: 0, Generator Loss: 2.821885108947754, Discriminator Loss: 3.2440361976623535, Time: 7.338198184967041 s\n",
      "Epoch: 1, Generator Loss: 0.9250044822692871, Discriminator Loss: 13.017976760864258, Time: 2.087127208709717 s\n",
      "Epoch: 2, Generator Loss: 0.13242504000663757, Discriminator Loss: 18.9923038482666, Time: 2.0453248023986816 s\n",
      "Epoch: 3, Generator Loss: 0.8508796691894531, Discriminator Loss: 14.372633934020996, Time: 2.0031065940856934 s\n",
      "Epoch: 4, Generator Loss: 0.45199188590049744, Discriminator Loss: 24.044702529907227, Time: 2.018160581588745 s\n",
      "Epoch: 5, Generator Loss: 0.6025167107582092, Discriminator Loss: 17.548206329345703, Time: 2.0172617435455322 s\n",
      "Epoch: 6, Generator Loss: 1.3366931676864624, Discriminator Loss: 11.242127418518066, Time: 2.0220303535461426 s\n",
      "Epoch: 7, Generator Loss: 1.0261929035186768, Discriminator Loss: 5.131878852844238, Time: 2.0216901302337646 s\n",
      "Epoch: 8, Generator Loss: 1.6580322980880737, Discriminator Loss: 7.1367926597595215, Time: 2.0274105072021484 s\n",
      "Epoch: 9, Generator Loss: 1.5886826515197754, Discriminator Loss: 9.606219291687012, Time: 2.026970624923706 s\n",
      "Epoch: 10, Generator Loss: 0.38154518604278564, Discriminator Loss: 4.878614902496338, Time: 2.027477264404297 s\n",
      "Epoch: 11, Generator Loss: 0.13885578513145447, Discriminator Loss: 4.491249084472656, Time: 2.0215280055999756 s\n",
      "Epoch: 12, Generator Loss: 0.11335407942533493, Discriminator Loss: 4.528502464294434, Time: 2.0224082469940186 s\n",
      "Epoch: 13, Generator Loss: 0.22666355967521667, Discriminator Loss: 5.614110946655273, Time: 2.0076584815979004 s\n",
      "Epoch: 14, Generator Loss: 0.5256683230400085, Discriminator Loss: 6.469243049621582, Time: 2.0261659622192383 s\n",
      "Epoch: 15, Generator Loss: 0.30248603224754333, Discriminator Loss: 6.435523509979248, Time: 2.0261929035186768 s\n",
      "Epoch: 16, Generator Loss: 0.22133322060108185, Discriminator Loss: 5.337332248687744, Time: 2.023663282394409 s\n",
      "Epoch: 17, Generator Loss: 0.14753706753253937, Discriminator Loss: 4.496415615081787, Time: 2.0148537158966064 s\n",
      "Epoch: 18, Generator Loss: 0.11014952510595322, Discriminator Loss: 4.439012050628662, Time: 2.022291660308838 s\n",
      "Epoch: 19, Generator Loss: 0.37612900137901306, Discriminator Loss: 4.308452129364014, Time: 1.9982643127441406 s\n",
      "Epoch: 20, Generator Loss: 0.28478091955184937, Discriminator Loss: 5.12711763381958, Time: 2.027224540710449 s\n",
      "Epoch: 21, Generator Loss: 0.21380166709423065, Discriminator Loss: 5.258968353271484, Time: 2.0330610275268555 s\n",
      "Epoch: 22, Generator Loss: 0.14351555705070496, Discriminator Loss: 4.718252182006836, Time: 2.027160406112671 s\n",
      "Epoch: 23, Generator Loss: 0.09336033463478088, Discriminator Loss: 6.659247875213623, Time: 2.0304460525512695 s\n",
      "Epoch: 24, Generator Loss: 0.1823182851076126, Discriminator Loss: 4.845134735107422, Time: 2.018017053604126 s\n",
      "Epoch: 25, Generator Loss: 0.10647851228713989, Discriminator Loss: 4.758913516998291, Time: 2.03117299079895 s\n",
      "Epoch: 26, Generator Loss: 0.08971131592988968, Discriminator Loss: 4.699378967285156, Time: 2.0316267013549805 s\n",
      "Epoch: 27, Generator Loss: 0.08245716989040375, Discriminator Loss: 4.863242149353027, Time: 2.0180764198303223 s\n",
      "Epoch: 28, Generator Loss: 0.04824740067124367, Discriminator Loss: 5.568543910980225, Time: 2.01751446723938 s\n",
      "Epoch: 29, Generator Loss: 0.060286711901426315, Discriminator Loss: 4.95498514175415, Time: 2.019672393798828 s\n",
      "Epoch: 30, Generator Loss: 0.03903892636299133, Discriminator Loss: 5.388616561889648, Time: 2.0305209159851074 s\n",
      "Epoch: 31, Generator Loss: 0.029421893879771233, Discriminator Loss: 5.496237754821777, Time: 2.020700216293335 s\n",
      "Epoch: 32, Generator Loss: 0.026701992377638817, Discriminator Loss: 5.747869491577148, Time: 2.0205061435699463 s\n",
      "Epoch: 33, Generator Loss: 0.029155299067497253, Discriminator Loss: 5.1277265548706055, Time: 2.016758918762207 s\n",
      "Epoch: 34, Generator Loss: 0.06073232740163803, Discriminator Loss: 4.947896480560303, Time: 2.031721830368042 s\n",
      "Epoch: 35, Generator Loss: 0.09392204880714417, Discriminator Loss: 5.725446701049805, Time: 2.029723882675171 s\n",
      "Epoch: 36, Generator Loss: 0.03240938484668732, Discriminator Loss: 6.5939836502075195, Time: 2.0371041297912598 s\n",
      "Epoch: 37, Generator Loss: 0.03767549246549606, Discriminator Loss: 5.380918502807617, Time: 2.034893035888672 s\n",
      "Epoch: 38, Generator Loss: 0.08165781944990158, Discriminator Loss: 6.495414733886719, Time: 2.038308620452881 s\n",
      "Epoch: 39, Generator Loss: 0.07611348479986191, Discriminator Loss: 8.026588439941406, Time: 2.034636974334717 s\n",
      "Epoch: 40, Generator Loss: 0.05543994903564453, Discriminator Loss: 6.129878997802734, Time: 2.036972999572754 s\n",
      "Epoch: 41, Generator Loss: 0.2591625154018402, Discriminator Loss: 6.615779876708984, Time: 2.031337022781372 s\n",
      "Epoch: 42, Generator Loss: 0.1561872810125351, Discriminator Loss: 12.549836158752441, Time: 2.0331807136535645 s\n",
      "Epoch: 43, Generator Loss: 0.021165618672966957, Discriminator Loss: 8.814682960510254, Time: 2.027508020401001 s\n",
      "Epoch: 44, Generator Loss: 0.018937477841973305, Discriminator Loss: 7.764601230621338, Time: 2.0113062858581543 s\n",
      "Epoch: 45, Generator Loss: 0.26966437697410583, Discriminator Loss: 9.261634826660156, Time: 2.010403871536255 s\n",
      "Epoch: 46, Generator Loss: 0.22322160005569458, Discriminator Loss: 11.315302848815918, Time: 2.0271847248077393 s\n",
      "Epoch: 47, Generator Loss: 0.13878025114536285, Discriminator Loss: 6.335421562194824, Time: 2.0237600803375244 s\n",
      "Epoch: 48, Generator Loss: 0.09901715815067291, Discriminator Loss: 8.272882461547852, Time: 2.0273690223693848 s\n",
      "Epoch: 49, Generator Loss: 0.07520421594381332, Discriminator Loss: 5.914259433746338, Time: 2.0264816284179688 s\n",
      "Epoch: 50, Generator Loss: 0.04510213062167168, Discriminator Loss: 6.202131748199463, Time: 2.024829626083374 s\n",
      "Epoch: 51, Generator Loss: 0.057856038212776184, Discriminator Loss: 6.339870452880859, Time: 2.0262057781219482 s\n",
      "Epoch: 52, Generator Loss: 0.01917983405292034, Discriminator Loss: 6.791423797607422, Time: 2.0272858142852783 s\n",
      "Epoch: 53, Generator Loss: 0.01059353444725275, Discriminator Loss: 7.254695892333984, Time: 2.0228400230407715 s\n",
      "Epoch: 54, Generator Loss: 0.020643802359700203, Discriminator Loss: 6.8431806564331055, Time: 2.0184853076934814 s\n",
      "Epoch: 55, Generator Loss: 0.018277782946825027, Discriminator Loss: 6.9605207443237305, Time: 2.021212577819824 s\n",
      "Epoch: 56, Generator Loss: 0.025452032685279846, Discriminator Loss: 7.3233642578125, Time: 2.0279834270477295 s\n",
      "Epoch: 57, Generator Loss: 0.007877769879996777, Discriminator Loss: 6.887300968170166, Time: 2.0318121910095215 s\n",
      "Epoch: 58, Generator Loss: 0.01174888201057911, Discriminator Loss: 6.551817893981934, Time: 2.0194435119628906 s\n",
      "Epoch: 59, Generator Loss: 0.026999300345778465, Discriminator Loss: 6.372605323791504, Time: 2.0332934856414795 s\n",
      "Epoch: 60, Generator Loss: 0.04672764241695404, Discriminator Loss: 8.17380428314209, Time: 2.040071964263916 s\n",
      "Epoch: 61, Generator Loss: 0.022698286920785904, Discriminator Loss: 6.53048849105835, Time: 2.034447431564331 s\n",
      "Epoch: 62, Generator Loss: 0.007199504878371954, Discriminator Loss: 7.171184539794922, Time: 2.0349361896514893 s\n",
      "Epoch: 63, Generator Loss: 0.005215935409069061, Discriminator Loss: 7.217510223388672, Time: 2.0205886363983154 s\n",
      "Epoch: 64, Generator Loss: 0.007216107100248337, Discriminator Loss: 7.26409912109375, Time: 2.0175933837890625 s\n",
      "Epoch: 65, Generator Loss: 0.018871238455176353, Discriminator Loss: 7.56533670425415, Time: 2.03041672706604 s\n",
      "Epoch: 66, Generator Loss: 0.04074377566576004, Discriminator Loss: 7.681781768798828, Time: 2.04449200630188 s\n",
      "Epoch: 67, Generator Loss: 0.02197840064764023, Discriminator Loss: 7.710181713104248, Time: 2.039278984069824 s\n",
      "Epoch: 68, Generator Loss: 0.009525030851364136, Discriminator Loss: 7.55946683883667, Time: 2.0417771339416504 s\n",
      "Epoch: 69, Generator Loss: 0.016882281750440598, Discriminator Loss: 6.936676979064941, Time: 2.013148546218872 s\n",
      "Epoch: 70, Generator Loss: 0.11478643864393234, Discriminator Loss: 8.051081657409668, Time: 2.0492076873779297 s\n",
      "Epoch: 71, Generator Loss: 0.12848353385925293, Discriminator Loss: 8.448967933654785, Time: 2.047985792160034 s\n",
      "Epoch: 72, Generator Loss: 0.10217154026031494, Discriminator Loss: 8.172806739807129, Time: 2.042371988296509 s\n"
     ]
    },
    {
     "name": "stdout",
     "output_type": "stream",
     "text": [
      "Epoch: 73, Generator Loss: 0.10194630175828934, Discriminator Loss: 8.205160140991211, Time: 2.04400634765625 s\n",
      "Epoch: 74, Generator Loss: 0.06458377093076706, Discriminator Loss: 7.865279197692871, Time: 2.0614566802978516 s\n",
      "Epoch: 75, Generator Loss: 0.2981606721878052, Discriminator Loss: 8.252460479736328, Time: 2.055711030960083 s\n",
      "Epoch: 76, Generator Loss: 0.32767242193222046, Discriminator Loss: 9.837279319763184, Time: 2.156704902648926 s\n",
      "Epoch: 77, Generator Loss: 0.6558974981307983, Discriminator Loss: 13.397499084472656, Time: 2.1289587020874023 s\n",
      "Epoch: 78, Generator Loss: 0.1947450190782547, Discriminator Loss: 23.2255916595459, Time: 2.1270315647125244 s\n",
      "Epoch: 79, Generator Loss: 0.3437369465827942, Discriminator Loss: 12.615348815917969, Time: 2.0404720306396484 s\n",
      "Epoch: 80, Generator Loss: 0.5763891339302063, Discriminator Loss: 13.971114158630371, Time: 1.9993207454681396 s\n",
      "Epoch: 81, Generator Loss: 0.16390983760356903, Discriminator Loss: 12.24565315246582, Time: 1.9927246570587158 s\n",
      "Epoch: 82, Generator Loss: 0.04814409092068672, Discriminator Loss: 10.539371490478516, Time: 2.0210938453674316 s\n",
      "Epoch: 83, Generator Loss: 0.01556098647415638, Discriminator Loss: 9.5032958984375, Time: 1.9947876930236816 s\n",
      "Epoch: 84, Generator Loss: 0.019636642187833786, Discriminator Loss: 8.150845527648926, Time: 2.035585641860962 s\n",
      "Epoch: 85, Generator Loss: 0.04103756695985794, Discriminator Loss: 9.192205429077148, Time: 2.039414167404175 s\n",
      "Epoch: 86, Generator Loss: 0.0328005850315094, Discriminator Loss: 20.084871292114258, Time: 2.0414648056030273 s\n",
      "Epoch: 87, Generator Loss: 0.012361764907836914, Discriminator Loss: 17.41554069519043, Time: 1.9926400184631348 s\n",
      "Epoch: 88, Generator Loss: 0.030095232650637627, Discriminator Loss: 11.146961212158203, Time: 2.0332136154174805 s\n",
      "Epoch: 89, Generator Loss: 0.051320597529411316, Discriminator Loss: 10.530829429626465, Time: 1.9913465976715088 s\n",
      "Epoch: 90, Generator Loss: 0.008242261596024036, Discriminator Loss: 10.644848823547363, Time: 2.0343549251556396 s\n",
      "Epoch: 91, Generator Loss: 0.010830452665686607, Discriminator Loss: 10.492486000061035, Time: 2.0316591262817383 s\n",
      "Epoch: 92, Generator Loss: 0.013725663535296917, Discriminator Loss: 10.446246147155762, Time: 2.0365426540374756 s\n",
      "Epoch: 93, Generator Loss: 0.025355592370033264, Discriminator Loss: 8.507972717285156, Time: 2.030712366104126 s\n",
      "Epoch: 94, Generator Loss: 0.017878517508506775, Discriminator Loss: 8.01487922668457, Time: 2.003119707107544 s\n",
      "Epoch: 95, Generator Loss: 0.008835477754473686, Discriminator Loss: 8.348814964294434, Time: 2.0284061431884766 s\n",
      "Epoch: 96, Generator Loss: 0.0029828976839780807, Discriminator Loss: 8.082269668579102, Time: 2.0313174724578857 s\n",
      "Epoch: 97, Generator Loss: 0.013634534552693367, Discriminator Loss: 7.2957539558410645, Time: 2.024571418762207 s\n",
      "Epoch: 98, Generator Loss: 0.01177456509321928, Discriminator Loss: 7.272037506103516, Time: 2.0355544090270996 s\n",
      "Epoch: 99, Generator Loss: 0.0193819310516119, Discriminator Loss: 7.727339744567871, Time: 2.0299739837646484 s\n"
     ]
    }
   ],
   "source": [
    "# create a seed to visualize the progress\n",
    "num_examples_to_generate = 16\n",
    "seed = tf.random.normal([num_examples_to_generate, noise_dim])\n",
    "\n",
    "patience = 0\n",
    "print(\"starting training\")\n",
    "for epoch in range(epochs):\n",
    "    time_start = time.time()\n",
    "\n",
    "    batches = 0\n",
    "    for images, _ in train_gen:\n",
    "        train_step(images)\n",
    "        batches += 1\n",
    "        if batches >= train_size / batch_size:\n",
    "            # we need to break the loop by hand because\n",
    "            # the generator loops indefinitely\n",
    "            break\n",
    "\n",
    "    time_finish = time.time()\n",
    "    end_time = (time_finish-time_start)\n",
    "\n",
    "    if (epoch % log_freq == 0):\n",
    "\n",
    "        print ('Epoch: {}, Generator Loss: {}, Discriminator Loss: {}, Time: {} s'.format(\n",
    "               epoch,\n",
    "               generator_loss.result(),\n",
    "               discriminator_loss.result(),\n",
    "               end_time))\n",
    "\n",
    "        if ((generator_loss.result() < min_loss) or (discriminator_loss.result() < min_loss)):    \n",
    "            if not os.path.exists(models_directory):\n",
    "                os.makedirs(models_directory)\n",
    "            # serialize weights to HDF5\n",
    "            generator.save_weights(models_directory + \"best{}-generator.h5\".format(identifier))\n",
    "            discriminator.save_weights(models_directory + \"best{}-discriminator.h5\".format(identifier))\n",
    "            min_loss = min(generator_loss.result(), discriminator_loss.result())\n",
    "            patience = 0\n",
    "        else:\n",
    "            patience += 1\n",
    "\n",
    "        generated_image = generator(seed, training=False)\n",
    "        with train_summary_writer.as_default():\n",
    "            tf.summary.image('generated_image', generated_image, step=epoch)\n",
    "            tf.summary.scalar('generator_loss', generator_loss.result(), step=epoch)\n",
    "            tf.summary.scalar('discriminator_loss', discriminator_loss.result(), step=epoch)\n",
    "            generator_loss.reset_states()           \n",
    "            discriminator_loss.reset_states()           \n",
    "\n",
    "    if patience >= max_patience:\n",
    "        break"
   ]
  }
 ],
 "metadata": {
  "kernelspec": {
   "display_name": "Python 3",
   "language": "python",
   "name": "python3"
  },
  "language_info": {
   "codemirror_mode": {
    "name": "ipython",
    "version": 3
   },
   "file_extension": ".py",
   "mimetype": "text/x-python",
   "name": "python",
   "nbconvert_exporter": "python",
   "pygments_lexer": "ipython3",
   "version": "3.6.9"
  }
 },
 "nbformat": 4,
 "nbformat_minor": 2
}
